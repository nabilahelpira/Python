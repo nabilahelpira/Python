
{
  "nbformat": 4,
  "nbformat_minor": 0,
  "metadata": {
    "colab": {
      "provenance": [],
      "include_colab_link": true
    },
    "kernelspec": {
      "name": "python3",
      "display_name": "Python 3"
    },
    "language_info": {
      "name": "python"
    }
  },
  "cells": [
    {
      "cell_type": "markdown",
      "metadata": {
        "id": "view-in-github",
        "colab_type": "text"
      },
      "source": [
        "<a href=\"https://colab.research.google.com/github/Rindiyana28/Python/blob/main/python/latihan.ipynb\" target=\"_parent\"><img src=\"https://colab.research.google.com/assets/colab-badge.svg\" alt=\"Open In Colab\"/></a>"
      ]
    },
    {
      "cell_type": "code",
      "execution_count": null,
      "metadata": {
        "id": "nrfJ9KpInsKY"
      },
      "outputs": [],
      "source": [
        "#import Library Matplotlib\n",
        "import matplotlib.pyplot as plt\n",
        "%matplotlib inline"
      ]
    },
    {
      "cell_type": "code",
      "source": [
        "#Import Library Numpy\n",
        "import numpy as np\n",
        "\n",
        "#Menghitung jumlah data 100 yang berjarak dari 0 sampai 2π\n",
        "x =  np.linspace(0,2*np.pi, 100)\n",
        "#kemudian menghitung cos si x\n",
        "cos_x = np.cos(x)"
      ],
      "metadata": {
        "id": "ZlCzAUEuogmo"
      },
      "execution_count": null,
      "outputs": []
    },
    {
      "cell_type": "code",
      "source": [
        "#membuat line plot\n",
        "fig, ax = plt.subplots()\n",
        "_= ax.plot(x,cos_x,markersize=20,linestyle='-.',\n",
        "           color='red', label='cos')\n",
        "_= ax.set_aspect('equal')\n",
        "_= ax.legend()"
      ],
      "metadata": {
        "colab": {
          "base_uri": "https://localhost:8080/",
          "height": 154
        },
        "id": "tJAWmgREpbDz",
        "outputId": "1312962d-d8dc-48cc-ddcb-f945d6e409f3"
      },
      "execution_count": null,
      "outputs": [
        {
          "output_type": "display_data",
          "data": {
            "text/plain": [
              "<Figure size 432x288 with 1 Axes>"
            ],
            "image/png": "[encoded data removed]"
          },
          "metadata": {
            "needs_background": "light"
          }
        }
      ]
    }
  ]
}
